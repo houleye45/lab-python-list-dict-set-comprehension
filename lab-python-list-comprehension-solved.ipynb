{
 "cells": [
  {
   "cell_type": "markdown",
   "id": "25d7736c-ba17-4aff-b6bb-66eba20fbf4e",
   "metadata": {},
   "source": [
    "# Lab | List, Dict and Set Comprehension"
   ]
  },
  {
   "cell_type": "markdown",
   "id": "7dd3cbde-675a-4b81-92c3-f728846dbe06",
   "metadata": {},
   "source": [
    "## Exercise: Managing Customer Orders Optimized with Comprehension"
   ]
  },
  {
   "cell_type": "markdown",
   "id": "5d500160-2fb7-4777-b5e4-09d45ebaf328",
   "metadata": {},
   "source": [
    "In the previous exercise, you developed a program to manage customer orders and inventory. Now, let's take it a step further and incorporate comprehension into your code.\n",
    "\n",
    "Follow the steps below to complete the exercise:\n",
    "\n",
    "1. Review your code from the previous exercise and identify areas where you can apply comprehension to simplify and streamline your code. \n",
    "\n",
    "    - *Hint: Apply it to initialize inventory, updating the inventory and printing the updated inventory.*\n",
    "    \n",
    "    - For example, in initializing the inventory, we could have:\n",
    "    \n",
    "        ```python\n",
    "        def initialize_inventory(products):\n",
    "            inventory = {product: int(input(f\"Enter the quantity of {product}s available: \")) for product in products}\n",
    "            return inventory\n",
    "\n",
    "        ```\n",
    "<br>\n",
    "    \n",
    "    \n",
    "2. Modify the function get_customer_orders so it prompts the user to enter the number of customer orders and gathers the product names using a loop and user input. Use comprehension.\n",
    "\n",
    "3. Add a new function to calculate the total price of the customer order. For each product in customer_orders, prompt the user to enter the price of that product. Use comprehension to calculate the total price. Note: assume that the user can only have 1 unit of each product.\n",
    "\n",
    "4. Modify the update_inventory function to remove the product from the inventory if its quantity becomes zero after fulfilling the customer orders. Use comprehension to filter out the products with a quantity of zero from the inventory.\n",
    "\n",
    "5. Print the total price of the customer order.\n",
    "\n",
    "Your code should produce output similar to the following:\n",
    "\n",
    "```python\n",
    "Enter the quantity of t-shirts available:  5\n",
    "Enter the quantity of mugs available:  4\n",
    "Enter the quantity of hats available:  3\n",
    "Enter the quantity of books available:  2\n",
    "Enter the quantity of keychains available:  1\n",
    "Enter the number of customer orders:  2\n",
    "Enter the name of a product that a customer wants to order:  hat\n",
    "Enter the name of a product that a customer wants to order:  keychain\n",
    "\n",
    "Order Statistics:\n",
    "Total Products Ordered: 2\n",
    "Percentage of Unique Products Ordered: 40.0\n",
    "\n",
    "Updated Inventory:\n",
    "t-shirt: 5\n",
    "mug: 4\n",
    "hat: 2\n",
    "book: 2\n",
    "Enter the price of keychain:  5\n",
    "Enter the price of hat:  10\n",
    "Total Price: 15.0\n",
    "\n",
    "```\n"
   ]
  },
  {
   "cell_type": "code",
   "execution_count": 14,
   "id": "2092b2ba",
   "metadata": {},
   "outputs": [
    {
     "name": "stdout",
     "output_type": "stream",
     "text": [
      "\n",
      "Order Statistics:\n",
      "Total Products Ordered: 0\n",
      "Percentage of Unique Products Ordered: 0.0%\n",
      "\n",
      "Total Price: 0\n",
      "\n",
      "Updated Inventory:\n",
      "t-shirt: 6\n",
      "mug: 3\n",
      "hat: 4\n",
      "book: 2\n",
      "keychain: 4\n"
     ]
    }
   ],
   "source": [
    "def initialize_inventory(products):\n",
    "    inventory = {product: int(input(f\"Enter the quantity of {product}s available: \")) for product in products}\n",
    "    return inventory\n",
    "\n",
    "def get_customer_orders(products):\n",
    "    num_orders = int(input(\"Enter the number of customer orders: \"))\n",
    "    customer_orders = {input(\"Enter the name of a product that a customer wants to order: \").strip() \n",
    "                       for _ in range(num_orders) \n",
    "                       if input().strip() in products}\n",
    "    return customer_orders\n",
    "\n",
    "\n",
    "\n",
    "def update_inventory(inventory, customer_orders):\n",
    "    inventory = {product: quantity - 1 for product, quantity in inventory.items() if product not in customer_orders or quantity - 1 > 0}\n",
    "    return inventory\n",
    "\n",
    "def print_inventory(inventory):\n",
    "    print(\"\\nUpdated Inventory:\")\n",
    "    for product, quantity in inventory.items():\n",
    "        print(f\"{product}: {quantity}\")\n",
    "\n",
    "def main():\n",
    "    products = ['t-shirt', 'mug', 'hat', 'book', 'keychain']\n",
    "\n",
    "    inventory = initialize_inventory(products)\n",
    "    \n",
    "    customer_orders = get_customer_orders(products)\n",
    "    \n",
    "    total_products_ordered = len(customer_orders)\n",
    "    percentage_unique_products_ordered = (total_products_ordered / len(products)) * 100\n",
    "    print(\"\\nOrder Statistics:\")\n",
    "    print(f\"Total Products Ordered: {total_products_ordered}\")\n",
    "    print(f\"Percentage of Unique Products Ordered: {percentage_unique_products_ordered}%\")\n",
    "    \n",
    "\n",
    "    total_price = calculate_total_price(customer_orders)\n",
    "    print(f\"\\nTotal Price: {total_price}\")\n",
    "    \n",
    "    \n",
    "    inventory = update_inventory(inventory, customer_orders)\n",
    "    \n",
    "   \n",
    "    print_inventory(inventory)\n",
    "\n",
    "# Run the program\n",
    "main()\n"
   ]
  },
  {
   "cell_type": "code",
   "execution_count": 15,
   "id": "26ed8d17",
   "metadata": {},
   "outputs": [
    {
     "name": "stdout",
     "output_type": "stream",
     "text": [
      "['t-shirt', 'mug', 'hat', 'book', 'keychain']\n",
      "{}\n",
      "set()\n"
     ]
    }
   ],
   "source": [
    "products = [\"t-shirt\", \"mug\", \"hat\", \"book\", \"keychain\"]\n",
    "inventory = {}\n",
    "customer_orders = set()\n",
    "\n",
    "print(products)\n",
    "print(inventory)\n",
    "print(customer_orders)"
   ]
  },
  {
   "cell_type": "code",
   "execution_count": 16,
   "id": "e1976475",
   "metadata": {},
   "outputs": [],
   "source": [
    "def initialize_inventory(products):\n",
    "    inventory = {product: int(input(f\"Enter the quantity of {product}s available: \")) for product in products}\n",
    "    return inventory\n",
    "\n",
    "def get_customer_orders(products):\n",
    "    num_orders = int(input(\"Enter the number of customer orders: \"))\n",
    "    customer_orders = {input(\"Enter the name of a product that a customer wants to order: \").strip() \n",
    "                       for _ in range(num_orders) \n",
    "                       if input().strip() in products}\n",
    "    return customer_orders\n",
    "\n",
    "\n",
    "def update_inventory(inventory, customer_orders):\n",
    "    inventory = {product: quantity - 1 for product, quantity in inventory.items() if product not in customer_orders or quantity - 1 > 0}\n",
    "    return inventory\n",
    "\n",
    "def print_inventory(inventory):\n",
    "    print(\"\\nUpdated Inventory:\")\n",
    "    for product, quantity in inventory.items():\n",
    "        print(f\"{product}: {quantity}\")"
   ]
  },
  {
   "cell_type": "markdown",
   "id": "82ab3ae4",
   "metadata": {},
   "source": [
    "2. Modify the function get_customer_orders so it prompts the user to enter the number of customer orders and gathers the product names using a loop and user input. Use comprehension."
   ]
  },
  {
   "cell_type": "code",
   "execution_count": 17,
   "id": "09460a8c",
   "metadata": {},
   "outputs": [],
   "source": [
    "def get_customer_orders(products):\n",
    "    num_orders = int(input(\"Enter the number of customer orders: \"))\n",
    "    customer_orders = {input(\"Enter the name of a product that a customer wants to order: \").strip() \n",
    "                       for _ in range(num_orders) \n",
    "                       if input().strip() in products}\n",
    "    return customer_orders"
   ]
  },
  {
   "cell_type": "markdown",
   "id": "75036da4",
   "metadata": {},
   "source": [
    "3. Add a new function to calculate the total price of the customer order. For each product in customer_orders, prompt the user to enter the price of that product. Use comprehension to calculate the total price. Note: assume that the user can only have 1 unit of each product."
   ]
  },
  {
   "cell_type": "code",
   "execution_count": 18,
   "id": "388a0355",
   "metadata": {},
   "outputs": [],
   "source": [
    "def calculate_total_price(customer_orders):\n",
    "    total_price = sum(float(input(f\"Enter the price of {product}: \")) for product in customer_orders)\n",
    "    return total_price"
   ]
  },
  {
   "cell_type": "markdown",
   "id": "9eb0f821",
   "metadata": {},
   "source": [
    "4. Modify the update_inventory function to remove the product from the inventory if its quantity becomes zero after fulfilling the customer orders. Use comprehension to filter out the products with a quantity of zero from the inventory."
   ]
  },
  {
   "cell_type": "code",
   "execution_count": 19,
   "id": "0ce8ac0d",
   "metadata": {},
   "outputs": [],
   "source": [
    "def update_inventory(inventory, customer_orders):\n",
    "    inventory = {product: quantity - 1 for product, quantity in inventory.items() if product not in customer_orders or quantity - 1 > 0}\n",
    "    return inventory"
   ]
  },
  {
   "cell_type": "markdown",
   "id": "149b453b",
   "metadata": {},
   "source": [
    "5. Print the total price of the customer order."
   ]
  },
  {
   "cell_type": "code",
   "execution_count": 20,
   "id": "f992cf9b",
   "metadata": {},
   "outputs": [
    {
     "name": "stdout",
     "output_type": "stream",
     "text": [
      "\n",
      "Total Price: 0\n"
     ]
    }
   ],
   "source": [
    "total_price = calculate_total_price(customer_orders)\n",
    "print(f\"\\nTotal Price: {total_price}\")"
   ]
  },
  {
   "cell_type": "code",
   "execution_count": 21,
   "id": "82a9de19",
   "metadata": {},
   "outputs": [
    {
     "ename": "ValueError",
     "evalue": "invalid literal for int() with base 10: ''",
     "output_type": "error",
     "traceback": [
      "\u001b[0;31m---------------------------------------------------------------------------\u001b[0m",
      "\u001b[0;31mValueError\u001b[0m                                Traceback (most recent call last)",
      "Cell \u001b[0;32mIn[21], line 52\u001b[0m\n\u001b[1;32m     49\u001b[0m     print_inventory(inventory)\n\u001b[1;32m     51\u001b[0m \u001b[38;5;66;03m# Run the program\u001b[39;00m\n\u001b[0;32m---> 52\u001b[0m \u001b[43mmain\u001b[49m\u001b[43m(\u001b[49m\u001b[43m)\u001b[49m\n",
      "Cell \u001b[0;32mIn[21], line 29\u001b[0m, in \u001b[0;36mmain\u001b[0;34m()\u001b[0m\n\u001b[1;32m     26\u001b[0m products \u001b[38;5;241m=\u001b[39m [\u001b[38;5;124m'\u001b[39m\u001b[38;5;124mt-shirt\u001b[39m\u001b[38;5;124m'\u001b[39m, \u001b[38;5;124m'\u001b[39m\u001b[38;5;124mmug\u001b[39m\u001b[38;5;124m'\u001b[39m, \u001b[38;5;124m'\u001b[39m\u001b[38;5;124mhat\u001b[39m\u001b[38;5;124m'\u001b[39m, \u001b[38;5;124m'\u001b[39m\u001b[38;5;124mbook\u001b[39m\u001b[38;5;124m'\u001b[39m, \u001b[38;5;124m'\u001b[39m\u001b[38;5;124mkeychain\u001b[39m\u001b[38;5;124m'\u001b[39m]\n\u001b[1;32m     28\u001b[0m \u001b[38;5;66;03m# Step 1: Initialize Inventory\u001b[39;00m\n\u001b[0;32m---> 29\u001b[0m inventory \u001b[38;5;241m=\u001b[39m \u001b[43minitialize_inventory\u001b[49m\u001b[43m(\u001b[49m\u001b[43mproducts\u001b[49m\u001b[43m)\u001b[49m\n\u001b[1;32m     31\u001b[0m \u001b[38;5;66;03m# Step 2: Get Customer Orders\u001b[39;00m\n\u001b[1;32m     32\u001b[0m customer_orders \u001b[38;5;241m=\u001b[39m get_customer_orders(products)\n",
      "Cell \u001b[0;32mIn[21], line 2\u001b[0m, in \u001b[0;36minitialize_inventory\u001b[0;34m(products)\u001b[0m\n\u001b[1;32m      1\u001b[0m \u001b[38;5;28;01mdef\u001b[39;00m \u001b[38;5;21minitialize_inventory\u001b[39m(products):\n\u001b[0;32m----> 2\u001b[0m     inventory \u001b[38;5;241m=\u001b[39m {product: \u001b[38;5;28;43mint\u001b[39;49m\u001b[43m(\u001b[49m\u001b[38;5;28;43minput\u001b[39;49m\u001b[43m(\u001b[49m\u001b[38;5;124;43mf\u001b[39;49m\u001b[38;5;124;43m\"\u001b[39;49m\u001b[38;5;124;43mEnter the quantity of \u001b[39;49m\u001b[38;5;132;43;01m{\u001b[39;49;00m\u001b[43mproduct\u001b[49m\u001b[38;5;132;43;01m}\u001b[39;49;00m\u001b[38;5;124;43ms available: \u001b[39;49m\u001b[38;5;124;43m\"\u001b[39;49m\u001b[43m)\u001b[49m\u001b[43m)\u001b[49m \u001b[38;5;28;01mfor\u001b[39;00m product \u001b[38;5;129;01min\u001b[39;00m products}\n\u001b[1;32m      3\u001b[0m     \u001b[38;5;28;01mreturn\u001b[39;00m inventory\n",
      "\u001b[0;31mValueError\u001b[0m: invalid literal for int() with base 10: ''"
     ]
    }
   ],
   "source": [
    "def initialize_inventory(products):\n",
    "    inventory = {product: int(input(f\"Enter the quantity of {product}s available: \")) for product in products}\n",
    "    return inventory\n",
    "\n",
    "def get_customer_orders(products):\n",
    "    num_orders = int(input(\"Enter the number of customer orders: \"))\n",
    "    customer_orders = {input(\"Enter the name of a product that a customer wants to order: \").strip() \n",
    "                       for _ in range(num_orders) \n",
    "                       if input().strip() in products}\n",
    "    return customer_orders\n",
    "\n",
    "def calculate_total_price(customer_orders):\n",
    "    total_price = sum(float(input(f\"Enter the price of {product}: \")) for product in customer_orders)\n",
    "    return total_price\n",
    "\n",
    "def update_inventory(inventory, customer_orders):\n",
    "    inventory = {product: quantity - 1 for product, quantity in inventory.items() if product not in customer_orders or quantity - 1 > 0}\n",
    "    return inventory\n",
    "\n",
    "def print_inventory(inventory):\n",
    "    print(\"\\nUpdated Inventory:\")\n",
    "    for product, quantity in inventory.items():\n",
    "        print(f\"{product}: {quantity}\")\n",
    "\n",
    "def main():\n",
    "    products = ['t-shirt', 'mug', 'hat', 'book', 'keychain']\n",
    "    \n",
    "    # Step 1: Initialize Inventory\n",
    "    inventory = initialize_inventory(products)\n",
    "    \n",
    "    # Step 2: Get Customer Orders\n",
    "    customer_orders = get_customer_orders(products)\n",
    "    \n",
    "    # Print Order Statistics\n",
    "    total_products_ordered = len(customer_orders)\n",
    "    percentage_unique_products_ordered = (total_products_ordered / len(products)) * 100\n",
    "    print(\"\\nOrder Statistics:\")\n",
    "    print(f\"Total Products Ordered: {total_products_ordered}\")\n",
    "    print(f\"Percentage of Unique Products Ordered: {percentage_unique_products_ordered}%\")\n",
    "    \n",
    "    # Step 3: Calculate Total Price\n",
    "    total_price = calculate_total_price(customer_orders)\n",
    "    print(f\"\\nTotal Price: {total_price}\")\n",
    "    \n",
    "    # Step 4: Update Inventory\n",
    "    inventory = update_inventory(inventory, customer_orders)\n",
    "    \n",
    "    # Print Updated Inventory\n",
    "    print_inventory(inventory)\n",
    "\n",
    "# Run the program\n",
    "main()\n"
   ]
  }
 ],
 "metadata": {
  "kernelspec": {
   "display_name": "Python 3 (ipykernel)",
   "language": "python",
   "name": "python3"
  },
  "language_info": {
   "codemirror_mode": {
    "name": "ipython",
    "version": 3
   },
   "file_extension": ".py",
   "mimetype": "text/x-python",
   "name": "python",
   "nbconvert_exporter": "python",
   "pygments_lexer": "ipython3",
   "version": "3.12.4"
  }
 },
 "nbformat": 4,
 "nbformat_minor": 5
}
